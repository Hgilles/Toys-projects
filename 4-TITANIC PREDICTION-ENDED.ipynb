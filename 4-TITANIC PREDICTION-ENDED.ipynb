{
 "cells": [
  {
   "cell_type": "markdown",
   "id": "ae987b91",
   "metadata": {},
   "source": [
    "# TITANIC ML PREDICTION"
   ]
  },
  {
   "cell_type": "code",
   "execution_count": 1,
   "id": "7a44f189",
   "metadata": {},
   "outputs": [],
   "source": [
    "import pandas as pd\n",
    "import numpy as np "
   ]
  },
  {
   "cell_type": "code",
   "execution_count": 2,
   "id": "594d00e5",
   "metadata": {},
   "outputs": [],
   "source": [
    "df=pd.read_csv(r'C:\\test titanic.csv')\n",
    "df1=pd.read_csv(r'C:\\train titanic.csv')"
   ]
  },
  {
   "cell_type": "code",
   "execution_count": 3,
   "id": "a72db342",
   "metadata": {},
   "outputs": [
    {
     "name": "stdout",
     "output_type": "stream",
     "text": [
      "<class 'pandas.core.frame.DataFrame'>\n",
      "RangeIndex: 418 entries, 0 to 417\n",
      "Data columns (total 11 columns):\n",
      " #   Column       Non-Null Count  Dtype  \n",
      "---  ------       --------------  -----  \n",
      " 0   PassengerId  418 non-null    int64  \n",
      " 1   Pclass       418 non-null    int64  \n",
      " 2   Name         418 non-null    object \n",
      " 3   Sex          418 non-null    object \n",
      " 4   Age          332 non-null    float64\n",
      " 5   SibSp        418 non-null    int64  \n",
      " 6   Parch        418 non-null    int64  \n",
      " 7   Ticket       418 non-null    object \n",
      " 8   Fare         417 non-null    float64\n",
      " 9   Cabin        91 non-null     object \n",
      " 10  Embarked     418 non-null    object \n",
      "dtypes: float64(2), int64(4), object(5)\n",
      "memory usage: 36.0+ KB\n"
     ]
    }
   ],
   "source": [
    "df.info()"
   ]
  },
  {
   "cell_type": "code",
   "execution_count": 4,
   "id": "7bf492ee",
   "metadata": {},
   "outputs": [
    {
     "name": "stdout",
     "output_type": "stream",
     "text": [
      "<class 'pandas.core.frame.DataFrame'>\n",
      "RangeIndex: 891 entries, 0 to 890\n",
      "Data columns (total 12 columns):\n",
      " #   Column       Non-Null Count  Dtype  \n",
      "---  ------       --------------  -----  \n",
      " 0   PassengerId  891 non-null    int64  \n",
      " 1   Survived     891 non-null    int64  \n",
      " 2   Pclass       891 non-null    int64  \n",
      " 3   Name         891 non-null    object \n",
      " 4   Sex          891 non-null    object \n",
      " 5   Age          714 non-null    float64\n",
      " 6   SibSp        891 non-null    int64  \n",
      " 7   Parch        891 non-null    int64  \n",
      " 8   Ticket       891 non-null    object \n",
      " 9   Fare         891 non-null    float64\n",
      " 10  Cabin        204 non-null    object \n",
      " 11  Embarked     889 non-null    object \n",
      "dtypes: float64(2), int64(5), object(5)\n",
      "memory usage: 83.7+ KB\n"
     ]
    }
   ],
   "source": [
    "df1.info()"
   ]
  },
  {
   "cell_type": "code",
   "execution_count": 3,
   "id": "a691c3c2",
   "metadata": {},
   "outputs": [],
   "source": [
    "df1.isnull().sum()\n",
    "Y=df1['Survived'].to_numpy()\n",
    "Y=pd.Series(Y)\n"
   ]
  },
  {
   "cell_type": "code",
   "execution_count": 4,
   "id": "8002abd6",
   "metadata": {},
   "outputs": [
    {
     "data": {
      "text/plain": [
       "Survived      0\n",
       "Pclass        0\n",
       "Age         177\n",
       "SibSp         0\n",
       "Parch         0\n",
       "Fare          0\n",
       "dtype: int64"
      ]
     },
     "execution_count": 4,
     "metadata": {},
     "output_type": "execute_result"
    }
   ],
   "source": [
    "df2=df1.drop('PassengerId', axis=1)\n",
    "df3=df2.select_dtypes(include=['float64','int64'])\n",
    "df3.isnull().sum()\n"
   ]
  },
  {
   "cell_type": "code",
   "execution_count": 5,
   "id": "517f9d11",
   "metadata": {},
   "outputs": [
    {
     "data": {
      "text/html": [
       "<div>\n",
       "<style scoped>\n",
       "    .dataframe tbody tr th:only-of-type {\n",
       "        vertical-align: middle;\n",
       "    }\n",
       "\n",
       "    .dataframe tbody tr th {\n",
       "        vertical-align: top;\n",
       "    }\n",
       "\n",
       "    .dataframe thead th {\n",
       "        text-align: right;\n",
       "    }\n",
       "</style>\n",
       "<table border=\"1\" class=\"dataframe\">\n",
       "  <thead>\n",
       "    <tr style=\"text-align: right;\">\n",
       "      <th></th>\n",
       "      <th>Survived</th>\n",
       "      <th>Pclass</th>\n",
       "      <th>Age</th>\n",
       "      <th>SibSp</th>\n",
       "      <th>Parch</th>\n",
       "      <th>Fare</th>\n",
       "    </tr>\n",
       "  </thead>\n",
       "  <tbody>\n",
       "    <tr>\n",
       "      <th>0</th>\n",
       "      <td>0</td>\n",
       "      <td>3</td>\n",
       "      <td>22.000000</td>\n",
       "      <td>1</td>\n",
       "      <td>0</td>\n",
       "      <td>7.2500</td>\n",
       "    </tr>\n",
       "    <tr>\n",
       "      <th>1</th>\n",
       "      <td>1</td>\n",
       "      <td>1</td>\n",
       "      <td>38.000000</td>\n",
       "      <td>1</td>\n",
       "      <td>0</td>\n",
       "      <td>71.2833</td>\n",
       "    </tr>\n",
       "    <tr>\n",
       "      <th>2</th>\n",
       "      <td>1</td>\n",
       "      <td>3</td>\n",
       "      <td>26.000000</td>\n",
       "      <td>0</td>\n",
       "      <td>0</td>\n",
       "      <td>7.9250</td>\n",
       "    </tr>\n",
       "    <tr>\n",
       "      <th>3</th>\n",
       "      <td>1</td>\n",
       "      <td>1</td>\n",
       "      <td>35.000000</td>\n",
       "      <td>1</td>\n",
       "      <td>0</td>\n",
       "      <td>53.1000</td>\n",
       "    </tr>\n",
       "    <tr>\n",
       "      <th>4</th>\n",
       "      <td>0</td>\n",
       "      <td>3</td>\n",
       "      <td>35.000000</td>\n",
       "      <td>0</td>\n",
       "      <td>0</td>\n",
       "      <td>8.0500</td>\n",
       "    </tr>\n",
       "    <tr>\n",
       "      <th>...</th>\n",
       "      <td>...</td>\n",
       "      <td>...</td>\n",
       "      <td>...</td>\n",
       "      <td>...</td>\n",
       "      <td>...</td>\n",
       "      <td>...</td>\n",
       "    </tr>\n",
       "    <tr>\n",
       "      <th>886</th>\n",
       "      <td>0</td>\n",
       "      <td>2</td>\n",
       "      <td>27.000000</td>\n",
       "      <td>0</td>\n",
       "      <td>0</td>\n",
       "      <td>13.0000</td>\n",
       "    </tr>\n",
       "    <tr>\n",
       "      <th>887</th>\n",
       "      <td>1</td>\n",
       "      <td>1</td>\n",
       "      <td>19.000000</td>\n",
       "      <td>0</td>\n",
       "      <td>0</td>\n",
       "      <td>30.0000</td>\n",
       "    </tr>\n",
       "    <tr>\n",
       "      <th>888</th>\n",
       "      <td>0</td>\n",
       "      <td>3</td>\n",
       "      <td>29.699118</td>\n",
       "      <td>1</td>\n",
       "      <td>2</td>\n",
       "      <td>23.4500</td>\n",
       "    </tr>\n",
       "    <tr>\n",
       "      <th>889</th>\n",
       "      <td>1</td>\n",
       "      <td>1</td>\n",
       "      <td>26.000000</td>\n",
       "      <td>0</td>\n",
       "      <td>0</td>\n",
       "      <td>30.0000</td>\n",
       "    </tr>\n",
       "    <tr>\n",
       "      <th>890</th>\n",
       "      <td>0</td>\n",
       "      <td>3</td>\n",
       "      <td>32.000000</td>\n",
       "      <td>0</td>\n",
       "      <td>0</td>\n",
       "      <td>7.7500</td>\n",
       "    </tr>\n",
       "  </tbody>\n",
       "</table>\n",
       "<p>891 rows × 6 columns</p>\n",
       "</div>"
      ],
      "text/plain": [
       "     Survived  Pclass        Age  SibSp  Parch     Fare\n",
       "0           0       3  22.000000      1      0   7.2500\n",
       "1           1       1  38.000000      1      0  71.2833\n",
       "2           1       3  26.000000      0      0   7.9250\n",
       "3           1       1  35.000000      1      0  53.1000\n",
       "4           0       3  35.000000      0      0   8.0500\n",
       "..        ...     ...        ...    ...    ...      ...\n",
       "886         0       2  27.000000      0      0  13.0000\n",
       "887         1       1  19.000000      0      0  30.0000\n",
       "888         0       3  29.699118      1      2  23.4500\n",
       "889         1       1  26.000000      0      0  30.0000\n",
       "890         0       3  32.000000      0      0   7.7500\n",
       "\n",
       "[891 rows x 6 columns]"
      ]
     },
     "execution_count": 5,
     "metadata": {},
     "output_type": "execute_result"
    }
   ],
   "source": [
    "m1=df3['Age'].mean()\n",
    "df3['Age'].fillna(value=m1, inplace=True)\n",
    "#m2=df2['Fare'].mean()\n",
    "#df2['Fare'].fillna(value=m2, inplace =True)\n",
    "#df2.isnull().sum()\n",
    "df3"
   ]
  },
  {
   "cell_type": "code",
   "execution_count": 6,
   "id": "b949404d",
   "metadata": {},
   "outputs": [],
   "source": [
    "from sklearn.linear_model import LinearRegression"
   ]
  },
  {
   "cell_type": "code",
   "execution_count": 7,
   "id": "f56488a9",
   "metadata": {},
   "outputs": [],
   "source": [
    "from sklearn.model_selection import train_test_split"
   ]
  },
  {
   "cell_type": "code",
   "execution_count": 8,
   "id": "ab01abf7",
   "metadata": {},
   "outputs": [],
   "source": [
    "xtrain, xtest, ytrain, ytest=train_test_split(df3,Y, train_size=0.8)"
   ]
  },
  {
   "cell_type": "code",
   "execution_count": 9,
   "id": "f45a9e47",
   "metadata": {},
   "outputs": [
    {
     "data": {
      "text/plain": [
       "LinearRegression()"
      ]
     },
     "execution_count": 9,
     "metadata": {},
     "output_type": "execute_result"
    }
   ],
   "source": [
    "reg=LinearRegression()\n",
    "reg.fit(xtrain, ytrain)"
   ]
  },
  {
   "cell_type": "code",
   "execution_count": 10,
   "id": "24177edb",
   "metadata": {},
   "outputs": [
    {
     "data": {
      "text/plain": [
       "1.0"
      ]
     },
     "execution_count": 10,
     "metadata": {},
     "output_type": "execute_result"
    }
   ],
   "source": [
    "reg.score(xtest, ytest)"
   ]
  },
  {
   "cell_type": "code",
   "execution_count": 12,
   "id": "85a1c37a",
   "metadata": {},
   "outputs": [
    {
     "data": {
      "text/plain": [
       "array([-3.10442708e-15, -3.12039503e-15, -3.63647852e-15, -2.99376957e-15,\n",
       "       -3.11989215e-15, -1.45449038e-15,  1.00000000e+00,  1.00000000e+00,\n",
       "        1.00000000e+00,  1.00000000e+00,  1.00000000e+00,  1.00000000e+00,\n",
       "       -2.35563537e-15, -3.10244017e-15, -3.26445668e-15, -3.69120227e-15,\n",
       "        1.00000000e+00, -3.54322010e-15, -1.46030933e-15,  1.00000000e+00,\n",
       "       -3.57351202e-15, -2.71429258e-15,  1.00000000e+00,  1.00000000e+00,\n",
       "       -1.59363858e-15,  1.00000000e+00,  1.00000000e+00,  1.00000000e+00,\n",
       "       -6.42877287e-16, -3.79201273e-15,  1.00000000e+00, -3.15689452e-15,\n",
       "       -3.11946928e-15,  1.00000000e+00,  1.00000000e+00, -3.14189667e-15,\n",
       "       -3.63666585e-15,  1.00000000e+00, -3.79201273e-15,  1.00000000e+00,\n",
       "       -3.61531892e-15, -4.00491203e-15, -3.41741982e-15, -3.67879757e-15,\n",
       "       -2.83670325e-15, -3.10341925e-15, -2.65277053e-15, -3.53016485e-15,\n",
       "       -3.12039503e-15, -2.35563537e-15, -3.07780107e-15, -1.23741508e-15,\n",
       "       -3.74446340e-15, -3.11849020e-15, -3.10653871e-15, -3.66150803e-15,\n",
       "       -1.91913021e-15, -3.12370182e-15,  1.00000000e+00, -3.14724073e-15,\n",
       "       -3.11946928e-15,  1.00000000e+00, -3.60799901e-15, -2.89893567e-15,\n",
       "        1.00000000e+00,  1.00000000e+00,  1.00000000e+00, -3.12356975e-15,\n",
       "        1.00000000e+00, -3.74268081e-15, -2.52153820e-15,  1.00000000e+00,\n",
       "       -2.35124656e-15, -2.02704917e-15, -3.44296541e-15, -3.85099106e-15,\n",
       "        1.00000000e+00, -3.18766659e-15, -3.53439739e-15, -3.54587426e-15,\n",
       "       -3.68230240e-15,  2.23639685e-16, -3.31684475e-15,  1.00000000e+00,\n",
       "       -2.08302212e-15, -2.52643043e-15, -3.96935957e-15,  1.00000000e+00,\n",
       "       -3.90604387e-15,  1.00000000e+00,  1.00000000e+00, -3.12356047e-15,\n",
       "       -3.45386223e-15, -4.06383047e-15, -2.93173877e-15,  1.00000000e+00,\n",
       "       -3.49217358e-15,  1.00000000e+00,  1.00000000e+00, -2.46549649e-15,\n",
       "       -2.79263794e-15,  1.00000000e+00,  1.00000000e+00,  1.00000000e+00,\n",
       "       -3.11946928e-15, -3.25680533e-15,  1.48550691e-15, -3.63198314e-15,\n",
       "        1.00000000e+00, -1.74331698e-15,  1.00000000e+00, -3.45878115e-15,\n",
       "       -3.53254589e-15,  1.00000000e+00,  1.00000000e+00,  3.92654953e-16,\n",
       "        1.00000000e+00, -2.02141075e-15, -3.11589772e-15, -3.37114308e-15,\n",
       "        6.50986534e-16,  1.00000000e+00,  1.00000000e+00, -3.58443380e-15,\n",
       "       -3.12166492e-15,  1.00000000e+00,  9.17702534e-16,  1.00000000e+00,\n",
       "       -3.58493122e-15,  1.00000000e+00, -3.64692843e-15, -3.31581297e-15,\n",
       "       -3.41329268e-15,  1.00000000e+00,  2.52410549e-16, -2.23807826e-15,\n",
       "        1.00000000e+00, -3.10244017e-15, -3.42249937e-15, -1.45078788e-15,\n",
       "       -3.45121711e-15,  1.00000000e+00,  1.00000000e+00,  1.00000000e+00,\n",
       "        1.00000000e+00, -3.41460437e-15, -3.47907819e-15,  1.00000000e+00,\n",
       "       -3.59358523e-15, -2.42606861e-15, -3.25680533e-15,  1.00000000e+00,\n",
       "        1.00000000e+00, -2.99654745e-15, -3.11946928e-15, -2.71515107e-15,\n",
       "       -3.11946928e-15,  1.00000000e+00, -2.16657039e-15, -2.03557617e-15,\n",
       "       -4.74913332e-15, -3.58411633e-15, -3.37013525e-15, -3.31800668e-15,\n",
       "       -2.67415196e-15,  1.00000000e+00, -3.14737388e-15, -4.34346969e-15,\n",
       "       -2.67180554e-15, -3.96935957e-15,  1.00000000e+00, -2.45843274e-15,\n",
       "        1.00000000e+00, -3.72867187e-15, -3.48529999e-15, -3.72274098e-15,\n",
       "        1.00000000e+00, -2.36426850e-15, -2.76368223e-15])"
      ]
     },
     "execution_count": 12,
     "metadata": {},
     "output_type": "execute_result"
    }
   ],
   "source": [
    "y_hat=reg.predict(xtest)\n",
    "y_hat"
   ]
  },
  {
   "cell_type": "code",
   "execution_count": 13,
   "id": "b0556ab0",
   "metadata": {},
   "outputs": [],
   "source": [
    "from sklearn.linear_model import LogisticRegression"
   ]
  },
  {
   "cell_type": "code",
   "execution_count": 14,
   "id": "7087c6e2",
   "metadata": {},
   "outputs": [
    {
     "data": {
      "text/plain": [
       "LogisticRegression()"
      ]
     },
     "execution_count": 14,
     "metadata": {},
     "output_type": "execute_result"
    }
   ],
   "source": [
    "lr=LogisticRegression()\n",
    "lr.fit(xtrain, ytrain)"
   ]
  },
  {
   "cell_type": "code",
   "execution_count": 15,
   "id": "da65b8c4",
   "metadata": {},
   "outputs": [
    {
     "data": {
      "text/plain": [
       "1.0"
      ]
     },
     "execution_count": 15,
     "metadata": {},
     "output_type": "execute_result"
    }
   ],
   "source": [
    "lr.score(xtest, ytest)"
   ]
  },
  {
   "cell_type": "code",
   "execution_count": 16,
   "id": "9a7a835a",
   "metadata": {},
   "outputs": [
    {
     "data": {
      "text/plain": [
       "array([0, 0, 0, 0, 0, 0, 1, 1, 1, 1, 1, 1, 0, 0, 0, 0, 1, 0, 0, 1, 0, 0,\n",
       "       1, 1, 0, 1, 1, 1, 0, 0, 1, 0, 0, 1, 1, 0, 0, 1, 0, 1, 0, 0, 0, 0,\n",
       "       0, 0, 0, 0, 0, 0, 0, 0, 0, 0, 0, 0, 0, 0, 1, 0, 0, 1, 0, 0, 1, 1,\n",
       "       1, 0, 1, 0, 0, 1, 0, 0, 0, 0, 1, 0, 0, 0, 0, 0, 0, 1, 0, 0, 0, 1,\n",
       "       0, 1, 1, 0, 0, 0, 0, 1, 0, 1, 1, 0, 0, 1, 1, 1, 0, 0, 0, 0, 1, 0,\n",
       "       1, 0, 0, 1, 1, 0, 1, 0, 0, 0, 0, 1, 1, 0, 0, 1, 0, 1, 0, 1, 0, 0,\n",
       "       0, 1, 0, 0, 1, 0, 0, 0, 0, 1, 1, 1, 1, 0, 0, 1, 0, 0, 0, 1, 1, 0,\n",
       "       0, 0, 0, 1, 0, 0, 0, 0, 0, 0, 0, 1, 0, 0, 0, 0, 1, 0, 1, 0, 0, 0,\n",
       "       1, 0, 0], dtype=int64)"
      ]
     },
     "execution_count": 16,
     "metadata": {},
     "output_type": "execute_result"
    }
   ],
   "source": [
    "y_hat=lr.predict(xtest)\n",
    "y_hat"
   ]
  },
  {
   "cell_type": "markdown",
   "id": "02544988",
   "metadata": {},
   "source": [
    "### AFTER ANALYSIS WE CAN SEE THAT LINEAR REGRESSION FOR LOOK THE SURVIVING HAS GREAT ACCURACY AND LOGISITIC TO SEE WHAT GENDER HAS MORE CHANCE TO SURVIVE TOO."
   ]
  },
  {
   "cell_type": "code",
   "execution_count": 26,
   "id": "c6044f5e",
   "metadata": {},
   "outputs": [
    {
     "name": "stdout",
     "output_type": "stream",
     "text": [
      "If men survivor=0, and woman survivor =1, the probability for men surviving is 0.441340782122905 \n",
      " and for the woman is 0.5586592178770949\n"
     ]
    }
   ],
   "source": [
    "w=0\n",
    "m=0\n",
    "for i in y_hat:\n",
    "    if i == 0:\n",
    "        w=w+1\n",
    "    else:\n",
    "        m=m+1\n",
    "#print(w, m)\n",
    "print(\"If men survivor=0, and woman survivor =1, the probability for men surviving is\" , m/len(y_hat),\"\\n\",\"and for the woman is\", w/len(y_hat))"
   ]
  },
  {
   "cell_type": "code",
   "execution_count": null,
   "id": "5b630b68",
   "metadata": {},
   "outputs": [],
   "source": []
  }
 ],
 "metadata": {
  "kernelspec": {
   "display_name": "Python 3 (ipykernel)",
   "language": "python",
   "name": "python3"
  },
  "language_info": {
   "codemirror_mode": {
    "name": "ipython",
    "version": 3
   },
   "file_extension": ".py",
   "mimetype": "text/x-python",
   "name": "python",
   "nbconvert_exporter": "python",
   "pygments_lexer": "ipython3",
   "version": "3.9.13"
  }
 },
 "nbformat": 4,
 "nbformat_minor": 5
}
